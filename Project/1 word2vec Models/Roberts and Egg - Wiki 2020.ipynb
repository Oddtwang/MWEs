{
 "cells": [
  {
   "cell_type": "code",
   "execution_count": 1,
   "metadata": {},
   "outputs": [
    {
     "data": {
      "text/plain": [
       "'C:\\\\Users\\\\User\\\\Google Drive\\\\University\\\\Dissertation\\\\Code'"
      ]
     },
     "execution_count": 1,
     "metadata": {},
     "output_type": "execute_result"
    }
   ],
   "source": [
    "import os\n",
    "\n",
    "path = 'C:/Users/'+os.getlogin()+'/Google Drive/University/Dissertation'\n",
    "datapath = 'C:/Users/'+os.getlogin()+'/Dissertation Data'\n",
    "\n",
    "os.chdir(path+'/Code')\n",
    "os.getcwd()"
   ]
  },
  {
   "cell_type": "markdown",
   "metadata": {},
   "source": [
    "We collect lexical co-occurrence statistics on all words in\n",
    "the English Wikipedia, using the WikiExtractor tool2 to retrieve\n",
    "plain text from the April 2015 dump (ca. 2.8B words),\n",
    "and using simple regular expressions to segment sentences\n",
    "and words, and remove URLs and punctuation. We perform\n",
    "no POS tagging, lemmatisation, case normalisation,\n",
    "or removal of numbers or symbols."
   ]
  },
  {
   "cell_type": "code",
   "execution_count": 2,
   "metadata": {},
   "outputs": [],
   "source": [
    "import pandas as pd\n",
    "import re\n",
    "import numpy as np\n",
    "\n",
    "import nltk\n",
    "from nltk.tokenize import MWETokenizer\n",
    "\n",
    "from glove import Corpus, Glove\n",
    "\n",
    "from gensim.models import Word2Vec"
   ]
  },
  {
   "cell_type": "code",
   "execution_count": 3,
   "metadata": {},
   "outputs": [],
   "source": [
    "from nltk.corpus.reader.plaintext import PlaintextCorpusReader\n",
    "\n",
    "from nltk.tokenize import WhitespaceTokenizer"
   ]
  },
  {
   "cell_type": "code",
   "execution_count": 4,
   "metadata": {},
   "outputs": [],
   "source": [
    "# On English wikipedia (May 2020)\n",
    "\n",
    "wiki = PlaintextCorpusReader(datapath+'/Corpora/wiki/enwiki_20200520/','enwiki_20200520_custom.txt',\n",
    "                            word_tokenizer = WhitespaceTokenizer()\n",
    "                            )"
   ]
  },
  {
   "cell_type": "code",
   "execution_count": 7,
   "metadata": {},
   "outputs": [
    {
     "name": "stdout",
     "output_type": "stream",
     "text": [
      "[['Anarchism', 'is', 'a', 'political', 'philosophy', 'and', 'movement', 'that', 'rejects', 'all', 'involuntary,', 'coercive', 'forms', 'of', 'hierarchy.'], ['It', 'radically', 'calls', 'for', 'the', 'abolition', 'of', 'the', 'state', 'which', 'it', 'holds', 'to', 'be', 'undesirable,', 'unnecessary', 'and', 'harmful.'], ['The', 'timeline', 'of', 'anarchism', 'stretches', 'back', 'to', 'prehistory,', 'when', 'people', 'lived', 'in', 'anarchistic', 'societies', 'long', 'before', 'the', 'establishment', 'of', 'formal', 'states,', 'kingdoms', 'or', 'empires.'], ['With', 'the', 'rise', 'of', 'organised', 'hierarchical', 'bodies,', 'skepticism', 'towards', 'authority', 'also', 'rose,', 'but', 'it', 'was', 'not', 'until', 'the', '19th', 'century', 'that', 'a', 'self-conscious', 'political', 'movement', 'was', 'formed.'], ['During', 'the', 'later', 'half', 'of', 'the', '19th', 'and', 'the', 'first', 'decades', 'of', 'the', '20th', 'century,', 'the', 'anarchist', 'movement', 'flourished', 'in', 'most', 'parts', 'of', 'the', 'world', 'and', 'had', 'a', 'significant', 'role', 'in', \"worker's\", 'struggles', 'for', 'emancipation.'], ['Various', 'branches', 'of', 'anarchism', 'were', 'espoused', 'during', 'those', 'times.'], ['Anarchists', 'took', 'part', 'in', 'several', 'revolutions,', 'most', 'notably', 'in', 'the', 'Spanish', 'Civil', 'War,', 'where', 'they', 'were', 'crushed', 'by', 'the', 'fascist', 'forces', 'in', '1939,', 'marking', 'the', 'end', 'of', 'the', 'classical', 'era', 'of', 'anarchism.'], ['In', 'the', 'last', 'decades', 'of', 'the', '20th', 'century', 'and', 'into', 'the', '21st', 'century,', 'the', 'anarchist', 'movement', 'has', 'been', 'resurgent', 'once', 'more.'], ['Anarchism', 'employs', 'various', 'tactics', 'in', 'order', 'to', 'meet', 'its', 'ideal', 'ends;', 'these', 'can', 'be', 'broadly', 'separated', 'into', 'revolutionary', 'and', 'evolutionary', 'tactics.'], ['There', 'is', 'significant', 'overlap', 'between', 'the', 'two', 'legs,', 'which', 'are', 'merely', 'descriptive.'], ['Revolutionary', 'tactics', 'aim', 'to', 'bring', 'down', 'authority', 'and', 'state,', 'and', 'have', 'taken', 'a', 'violent', 'turn', 'in', 'the', 'past.'], ['Evolutionary', 'tactics', 'aim', 'to', 'prefigure', 'what', 'an', 'anarchist', 'society', 'would', 'be', 'like.'], ['Anarchist', 'thought,', 'criticism', 'and', 'praxis', 'has', 'played', 'a', 'part', 'in', 'diverse', 'fields', 'of', 'human', 'society.'], ['Criticism', 'of', 'anarchism', 'mainly', 'focuses', 'on', 'claims', 'of', 'it', 'being', 'internally', 'inconsistent,', 'violent', 'and', 'utopian.']]\n",
      "[['Etymology,', 'terminology', 'and', 'definition', 'The', 'etymological', 'origin', 'of', 'anarchism', 'is', 'from', 'the', 'Ancient', 'Greek', 'anarkhia,', 'meaning', '\"without', 'a', 'ruler\",', 'composed', 'of', 'the', 'prefix', 'an-', '(i.e.'], ['\"without\")', 'and', 'the', 'word', 'arkhos', '(i.e.'], ['\"leader\"', 'or', '\"ruler\").'], ['The', 'suffix', '-ism', 'denotes', 'the', 'ideological', 'current', 'that', 'favours', 'anarchy.'], ['Anarchism', 'appears', 'in', 'English', 'from', '1642', 'as', 'anarchisme', 'and', 'anarchy', 'from', '1539.'], ['Various', 'factions', 'within', 'the', 'French', 'Revolution', 'labelled', 'their', 'opponents', 'as', 'anarchists,', 'although', 'few', 'such', 'accused', 'shared', 'many', 'views', 'with', 'later', 'anarchists.'], ['Many', 'revolutionaries', 'of', 'the', '19th', 'century', 'such', 'as', 'William', 'Godwin', '(1756–1836)', 'and', 'Wilhelm', 'Weitling', '(1808–1871)', 'would', 'contribute', 'to', 'the', 'anarchist', 'doctrines', 'of', 'the', 'next', 'generation,', 'but', 'they', 'did', 'not', 'use', 'anarchist', 'or', 'anarchism', 'in', 'describing', 'themselves', 'or', 'their', 'beliefs.'], ['The', 'first', 'political', 'philosopher', 'to', 'call', 'himself', 'an', 'anarchist', '()', 'was', 'Pierre-Joseph', 'Proudhon', '(1809–1865),', 'marking', 'the', 'formal', 'birth', 'of', 'anarchism', 'in', 'the', 'mid-19th', 'century.'], ['Since', 'the', '1890s', 'and', 'beginning', 'in', 'France,', 'libertarianism', 'has', 'often', 'been', 'used', 'as', 'a', 'synonym', 'for', 'anarchism', 'and', 'its', 'use', 'as', 'a', 'synonym', 'is', 'still', 'common', 'outside', 'the', 'United', 'States.'], ['On', 'the', 'other', 'hand,', 'some', 'use', 'libertarianism', 'to', 'refer', 'to', 'individualistic', 'free-market', 'philosophy', 'only,', 'referring', 'to', 'free-market', 'anarchism', 'as', 'libertarian', 'anarchism.'], ['While', 'opposition', 'to', 'the', 'state', 'is', 'central', 'to', 'anarchist', 'thought,', 'defining', 'anarchism', 'is', 'not', 'an', 'easy', 'task', 'as', 'there', 'is', 'a', 'lot', 'of', 'discussion', 'among', 'scholars', 'and', 'anarchists', 'on', 'the', 'matter', 'and', 'various', 'currents', 'perceive', 'anarchism', 'slightly', 'differently.'], ['Hence,', 'it', 'might', 'be', 'true', 'to', 'say', 'that', 'anarchism', 'is', 'a', 'cluster', 'of', 'political', 'philosophies', 'opposing', 'authority', 'and', 'hierarchical', 'organization', '(including', 'the', 'state,', 'capitalism,', 'nationalism', 'and', 'all', 'associated', 'institutions)', 'in', 'the', 'conduct', 'of', 'all', 'human', 'relations', 'in', 'favour', 'of', 'a', 'society', 'based', 'on', 'voluntary', 'association,', 'on', 'freedom', 'and', 'on', 'decentralisation,', 'but', 'this', 'definition', 'has', 'the', 'same', 'shortcomings', 'as', 'the', 'definition', 'based', 'on', 'etymology', '(which', 'is', 'simply', 'a', 'negation', 'of', 'a', 'ruler),', 'or', 'based', 'on', 'anti-statism', '(anarchism', 'is', 'much', 'more', 'than', 'that)', 'or', 'even', 'the', 'anti-authoritarian', '(which', 'is', 'an', 'a', 'posteriori', 'conclusion).'], ['Nonetheless,', 'major', 'elements', 'of', 'the', 'definition', 'of', 'anarchism', 'include', 'the', 'following:', '#', 'The', 'will', 'for', 'a', 'non-coercive', 'society.'], ['#', 'The', 'rejection', 'of', 'the', 'state', 'apparatus.'], ['#', 'The', 'belief', 'that', 'human', 'nature', 'allows', 'humans', 'to', 'exist', 'in', 'or', 'progress', 'toward', 'such', 'a', 'non-coercive', 'society.'], ['#', 'A', 'suggestion', 'on', 'how', 'to', 'act', 'to', 'pursue', 'the', 'ideal', 'of', 'anarchy.']]\n",
      "[['History']]\n",
      "[['Pre-modern', 'era', 'Zeno', 'of', 'Citium', '(c.', '334', '–', 'c.', '262', 'BC),', 'whose', 'Republic', 'inspired', 'Peter', 'Kropotkin', 'During', 'the', 'prehistoric', 'era', 'of', 'mankind,', 'an', 'established', 'authority', 'did', 'not', 'exist.'], ['It', 'was', 'after', 'the', 'creation', 'of', 'towns', 'and', 'cities', 'that', 'institutions', 'of', 'authority', 'were', 'established', 'and', 'anarchistic', 'ideas', 'espoused', 'as', 'a', 'reaction.'], ['Most', 'notable', 'precursors', 'to', 'anarchism', 'in', 'the', 'ancient', 'world', 'were', 'in', 'China', 'and', 'Greece.'], ['In', 'China,', 'philosophical', 'anarchism', '(i.e.'], ['the', 'discussion', 'on', 'the', 'legitimacy', 'of', 'the', 'state)', 'was', 'delineated', 'by', 'Taoist', 'philosophers', 'Zhuangzi', 'and', 'Lao', 'Tzu.'], ['Likewise,', 'anarchic', 'attitudes', 'were', 'articulated', 'by', 'tragedians', 'and', 'philosophers', 'in', 'Greece.'], ['Aeschylus', 'and', 'Sophocles', 'used', 'the', 'myth', 'of', 'Antigone', 'to', 'illustrate', 'the', 'conflict', 'between', 'rules', 'set', 'by', 'the', 'state', 'and', 'personal', 'autonomy.'], ['Socrates', 'questioned', 'Athenian', 'authorities', 'constantly', 'and', 'insisted', 'to', 'the', 'right', 'of', 'individual', 'freedom', 'of', 'consciousness.'], ['Cynics', 'dismissed', 'human', 'law', '(nomos)', 'and', 'associated', 'authorities', 'while', 'trying', 'to', 'live', 'according', 'to', 'nature', '(physis).'], ['Stoics', 'were', 'supportive', 'of', 'a', 'society', 'based', 'on', 'unofficial', 'and', 'friendly', 'relations', 'among', 'its', 'citizens', 'without', 'the', 'presence', 'of', 'a', 'state.'], ['During', 'the', 'Middle', 'Ages,', 'there', 'was', 'no', 'anarchistic', 'activity', 'except', 'some', 'ascetic', 'religious', 'movements', 'in', 'the', 'Islamic', 'world', 'or', 'in', 'Christian', 'Europe.'], ['This', 'kind', 'of', 'tradition', 'later', 'gave', 'birth', 'to', 'religious', 'anarchism.'], ['In', 'Persia,', 'Mazdak', 'called', 'for', 'an', 'egalitarian', 'society', 'and', 'the', 'abolition', 'of', 'monarchy,', 'only', 'to', 'be', 'soon', 'executed', 'by', 'the', 'king.'], ['In', 'Basra,', 'religious', 'sects', 'preached', 'against', 'the', 'state.'], ['In', 'Europe,', 'various', 'sects', 'developed', 'anti-state', 'and', 'libertarian', 'tendencies.'], ['Libertarian', 'ideas', 'further', 'emerged', 'during', 'the', 'Renaissance', 'with', 'the', 'spread', 'of', 'reasoning', 'and', 'humanism', 'through', 'Europe.'], ['Novelists', 'fictionalised', 'ideal', 'societies', 'that', 'were', 'based', 'not', 'on', 'coercion', 'but', 'voluntarism.'], ['The', 'Enlightenment', 'further', 'pushed', 'towards', 'anarchism', 'with', 'the', 'optimism', 'for', 'social', 'progress.']]\n",
      "[['Modern', 'era', 'During', 'the', 'French', 'Revolution,', 'partisan', 'groups', 'such', 'as', 'the', 'Enragés', 'and', 'the', 'saw', 'a', 'turning', 'point', 'in', 'the', 'fermentation', 'of', 'anti-state', 'and', 'federalist', 'sentiments.'], ['The', 'first', 'anarchist', 'currents', 'developed', 'throughout', 'the', '18th', 'century—William', 'Godwin', 'espoused', 'philosophical', 'anarchism', 'in', 'England,', 'morally', 'delegitimizing', 'the', 'state,', 'Max', \"Stirner's\", 'thinking', 'paved', 'the', 'way', 'to', 'individualism,', 'and', 'Pierre-Joseph', \"Proudhon's\", 'theory', 'of', 'mutualism', 'found', 'fertile', 'soil', 'in', 'France.'], ['This', 'era', 'of', 'classical', 'anarchism', 'lasted', 'until', 'the', 'end', 'of', 'the', 'Spanish', 'Civil', 'War', 'of', '1936', 'and', 'is', 'considered', 'the', 'golden', 'age', 'of', 'anarchism.'], ['Anarchist', 'Mikhail', 'Bakunin', 'opposed', 'the', 'Marxist', 'aim', 'of', 'dictatorship', 'of', 'the', 'proletariat', 'and', 'allied', 'himself', 'with', 'the', 'federalists', 'in', 'the', 'First', 'International', 'before', 'his', 'expulsion', 'by', 'the', 'Marxists', 'Drawing', 'from', 'mutualism,', 'Mikhail', 'Bakunin', 'founded', 'collectivist', 'anarchism', 'and', 'entered', 'the', 'International', \"Workingmen's\", 'Association,', 'a', 'class', 'worker', 'union', 'later', 'known', 'as', 'the', 'First', 'International', 'that', 'formed', 'in', '1864', 'to', 'unite', 'diverse', 'revolutionary', 'currents.'], ['The', 'International', 'became', 'a', 'significant', 'political', 'force,', 'with', 'Karl', 'Marx', 'being', 'a', 'leading', 'figure', 'and', 'a', 'member', 'of', 'its', 'General', 'Council.'], [\"Bakunin's\", 'faction', '(the', 'Jura', 'Federation)', 'and', \"Proudhon's\", 'followers', '(the', 'mutualists)', 'opposed', 'Marxist', 'state', 'socialism,', 'advocating', 'political', 'abstentionism', 'and', 'small', 'property', 'holdings.'], ['After', 'bitter', 'disputes,', 'the', 'Bakuninists', 'were', 'expelled', 'from', 'the', 'International', 'by', 'the', 'Marxists', 'at', 'the', '1872', 'Hague', 'Congress.'], ['Bakunin', 'famously', 'predicted', 'that', 'if', 'revolutionaries', 'gained', 'power', 'by', \"Marxist's\", 'terms,', 'they', 'would', 'end', 'up', 'the', 'new', 'tyrants', 'of', 'workers.'], ['After', 'being', 'expelled,', 'anarchists', 'formed', 'the', 'St.', 'Imier', 'International.'], ['Under', 'the', 'influence', 'of', 'Peter', 'Kropotkin,', 'a', 'Russian', 'philosopher', 'and', 'scientist,', 'anarcho-communism', 'overlapped', 'with', 'collectivism.'], ['Anarcho-communists,', 'who', 'drew', 'inspiration', 'from', 'the', '1871', 'Paris', 'Commune,', 'advocated', 'for', 'free', 'federation', 'and', 'for', 'the', 'distribution', 'of', 'goods', 'according', 'to', \"one's\", 'needs.'], ['At', 'the', 'turn', 'of', 'the', 'century,', 'anarchism', 'had', 'spread', 'all', 'over', 'the', 'world.'], ['In', 'China,', 'small', 'groups', 'of', 'students', 'imported', 'the', 'humanistic', 'pro-science', 'version', 'of', 'anarcho-communism.'], ['Tokyo', 'was', 'a', 'hotspot', 'for', 'rebellious', 'youth', 'from', 'countries', 'of', 'the', 'far', 'east,', 'travelling', 'to', 'the', 'Japanese', 'capital', 'to', 'study.'], ['In', 'Latin', 'America,', 'Argentina', 'was', 'a', 'stronghold', 'for', 'anarcho-syndicalism,', 'where', 'it', 'became', 'the', 'most', 'prominent', 'left-wing', 'ideology.'], ['During', 'this', 'time,', 'a', 'minority', 'of', 'anarchists', 'adopted', 'tactics', 'of', 'revolutionary', 'political', 'violence.'], ['This', 'strategy', 'became', 'known', 'as', 'propaganda', 'of', 'the', 'deed.'], ['The', 'dismemberment', 'of', 'the', 'French', 'socialist', 'movement', 'into', 'many', 'groups,', 'and', 'the', 'execution', 'and', 'exile', 'of', 'many', 'Communards', 'to', 'penal', 'colonies', 'following', 'the', 'suppression', 'of', 'the', 'Paris', 'Commune,', 'favoured', 'individualist', 'political', 'expression', 'and', 'acts.'], ['Even', 'though', 'many', 'anarchists', 'distanced', 'themselves', 'from', 'these', 'terrorist', 'acts,', 'infamy', 'came', 'upon', 'the', 'movement.'], ['Illegalism', 'was', 'another', 'strategy', 'which', 'some', 'anarchists', 'adopted', 'during', 'this', 'period.'], ['Nestor', 'Makhno', 'with', 'members', 'of', 'the', 'anarchist', 'Revolutionary', 'Insurrectionary', 'Army', 'of', 'Ukraine', 'Anarchists', 'enthusiastically', 'participated', 'in', 'the', 'Russian', 'Revolution—despite', 'concerns—in', 'opposition', 'to', 'the', 'Whites.'], ['However,', 'they', 'met', 'harsh', 'suppression', 'after', 'the', 'Bolshevik', 'government', 'was', 'stabilized.'], ['Several', 'anarchists', 'from', 'Petrograd', 'and', 'Moscow', 'fled', 'to', 'Ukraine,', 'notably', 'leading', 'to', 'the', 'Kronstadt', 'rebellion', 'and', 'Nestor', \"Makhno's\", 'struggle', 'in', 'the', 'Free', 'Territory.'], ['With', 'the', 'anarchists', 'being', 'crushed', 'in', 'Russia,', 'two', 'new', 'antithetical', 'currents', 'emerged,', 'namely', 'platformism', 'and', 'synthesis', 'anarchism.'], ['The', 'former', 'sought', 'to', 'create', 'a', 'coherent', 'group', 'that', 'would', 'push', 'for', 'revolution', 'while', 'the', 'latter', 'were', 'against', 'anything', 'that', 'would', 'resemble', 'a', 'political', 'party.'], ['Seeing', 'the', 'victories', 'of', 'the', 'Bolsheviks', 'in', 'the', 'October', 'Revolution', 'and', 'the', 'resulting', 'Russian', 'Civil', 'War,', 'many', 'workers', 'and', 'activists', 'turned', 'to', 'communist', 'parties,', 'which', 'grew', 'at', 'the', 'expense', 'of', 'anarchism', 'and', 'other', 'socialist', 'movements.'], ['In', 'France', 'and', 'the', 'United', 'States,', 'members', 'of', 'major', 'syndicalist', 'movements,', 'the', 'General', 'Confederation', 'of', 'Labour', 'and', 'Industrial', 'Workers', 'of', 'the', 'World,', 'left', 'their', 'organisations', 'and', 'joined', 'the', 'Communist', 'International.'], ['In', 'the', 'Spanish', 'Civil', 'War,', 'anarchists', 'and', 'syndicalists', '(CNT', 'and', 'FAI)', 'once', 'again', 'allied', 'themselves', 'with', 'various', 'currents', 'of', 'leftists.'], ['A', 'long', 'tradition', 'of', 'Spanish', 'anarchism', 'led', 'to', 'anarchists', 'playing', 'a', 'pivotal', 'role', 'in', 'the', 'war.'], ['In', 'response', 'to', 'the', 'army', 'rebellion,', 'an', 'anarchist-inspired', 'movement', 'of', 'peasants', 'and', 'workers,', 'supported', 'by', 'armed', 'militias,', 'took', 'control', 'of', 'Barcelona', 'and', 'of', 'large', 'areas', 'of', 'rural', 'Spain,', 'where', 'they', 'collectivised', 'the', 'land.'], ['The', 'Soviet', 'Union', 'provided', 'some', 'limited', 'assistance', 'at', 'the', 'beginning', 'of', 'the', 'war,', 'but', 'the', 'result', 'was', 'a', 'bitter', 'fight', 'among', 'communists', 'and', 'anarchists', 'at', 'a', 'series', 'of', 'events', 'named', 'May', 'Days', 'as', 'Joseph', 'Stalin', 'tried', 'to', 'seize', 'control', 'of', 'the', 'Republicans.']]\n",
      "[['Post-war', 'era', 'Rojava', 'is', 'supporting', 'efforts', 'for', 'workers', 'to', 'form', 'cooperatives,', 'such', 'as', 'this', 'sewing', 'cooperative', 'At', 'the', 'end', 'of', 'World', 'War', 'II,', 'the', 'anarchist', 'movement', 'was', 'severely', 'weakened.'], ['However,', 'the', '1960s', 'witnessed', 'a', 'revival', 'of', 'anarchism', 'likely', 'caused', 'by', 'a', 'perceived', 'failure', 'of', 'Marxism–Leninism', 'and', 'tensions', 'built', 'by', 'the', 'Cold', 'War.'], ['During', 'this', 'time,', 'anarchism', 'took', 'root', 'in', 'other', 'movements', 'critical', 'to', 'both', 'the', 'state', 'and', 'capitalism,', 'such', 'as', 'the', 'anti-nuclear,', 'environmental', 'and', 'pacifist', 'movements,', 'the', 'New', 'Left,', 'and', 'the', 'counterculture', 'of', 'the', '1960s.'], ['Anarchism', 'became', 'associated', 'with', 'punk', 'subculture,', 'as', 'exemplified', 'by', 'bands', 'such', 'as', 'Crass', 'and', 'the', 'Sex', 'Pistols,', 'and', 'the', 'established', 'feminist', 'tendencies', 'of', 'anarcha-feminism', 'returned', 'with', 'vigour', 'during', 'the', 'second', 'wave', 'of', 'feminism.'], ['Around', 'the', 'turn', 'of', 'the', '21st', 'century,', 'anarchism', 'grew', 'in', 'popularity', 'and', 'influence', 'within', 'anti-war,', 'anti-capitalist,', 'and', 'anti-globalisation', 'movements.'], ['Anarchists', 'became', 'known', 'for', 'their', 'involvement', 'in', 'protests', 'against', 'the', 'World', 'Trade', 'Organization,', 'the', 'Group', 'of', 'Eight', 'and', 'the', 'World', 'Economic', 'Forum.'], ['During', 'the', 'protests,', 'ad', 'hoc', 'leaderless', 'anonymous', 'cadres', 'known', 'as', 'black', 'blocs', 'engaged', 'in', 'rioting,', 'property', 'destruction,', 'and', 'violent', 'confrontations', 'with', 'the', 'police.'], ['Other', 'organisational', 'tactics', 'pioneered', 'in', 'this', 'time', 'include', 'security', 'culture,', 'affinity', 'groups,', 'and', 'the', 'use', 'of', 'decentralised', 'technologies', 'such', 'as', 'the', 'internet.'], ['A', 'significant', 'event', 'of', 'this', 'period', 'was', 'the', 'confrontations', 'at', 'the', 'WTO', 'conference', 'in', 'Seattle', 'in', '1999.'], ['Anarchist', 'ideas', 'have', 'been', 'influential', 'in', 'the', 'development', 'of', 'the', 'Zapatistas', 'in', 'Mexico', 'and', 'the', 'Democratic', 'Federation', 'of', 'Northern', 'Syria,', 'more', 'commonly', 'known', 'as', 'Rojava,', 'a', 'de', 'facto', 'autonomous', 'region', 'in', 'northern', 'Syria.']]\n"
     ]
    }
   ],
   "source": [
    "## Not currently getting a paragraph = an article, we have additional blank lines coming through\n",
    "i = 0\n",
    "for p in wiki.paras():\n",
    "    if i > 5: break\n",
    "    print(p)\n",
    "    i +=1 "
   ]
  },
  {
   "cell_type": "code",
   "execution_count": 8,
   "metadata": {},
   "outputs": [],
   "source": [
    "# Import word and sentence generators\n",
    "\n",
    "from generators import sent_gen, word_gen, Sent_Seq"
   ]
  },
  {
   "cell_type": "markdown",
   "metadata": {},
   "source": [
    "We collect word frequency information with the\n",
    "SRILM language modelling toolkit (Stolcke, 2002), counting\n",
    "n-grams (n <= 3), treating MWEs as contiguous bigrams\n",
    "and trigrams), and identify MWE candidates by computing\n",
    "the Poisson collocation measure (Quasthoff and Wolff,\n",
    "2002) for all bigrams and trigrams (ca. 23M n-grams).\n",
    "This method should be readily extensible to include longer\n",
    "n-grams."
   ]
  },
  {
   "cell_type": "code",
   "execution_count": 9,
   "metadata": {},
   "outputs": [],
   "source": [
    "# Collate n-grams\n",
    "\n",
    "from nltk.collocations import BigramCollocationFinder, TrigramCollocationFinder\n",
    "\n",
    "from nltk.metrics import (\n",
    "    BigramAssocMeasures,\n",
    "    TrigramAssocMeasures,\n",
    "    NgramAssocMeasures,\n",
    ")\n",
    "\n",
    "from nltk.metrics.spearman import (\n",
    "    spearman_correlation,\n",
    "    ranks_from_scores,\n",
    ")"
   ]
  },
  {
   "cell_type": "code",
   "execution_count": 10,
   "metadata": {},
   "outputs": [],
   "source": [
    "scorer = NgramAssocMeasures.poisson_stirling\n",
    "\n",
    "bi_dict = {}\n",
    "tri_dict = {}"
   ]
  },
  {
   "cell_type": "code",
   "execution_count": 11,
   "metadata": {},
   "outputs": [],
   "source": [
    "%%time\n",
    "bi_cf = BigramCollocationFinder.from_words(word_gen(wiki))\n",
    "bi_cf.apply_word_filter(lambda w: w in ('|^|'))  # Filter out associations with sentence boundary marker"
   ]
  },
  {
   "cell_type": "code",
   "execution_count": null,
   "metadata": {},
   "outputs": [],
   "source": [
    "bi_cf.N"
   ]
  },
  {
   "cell_type": "code",
   "execution_count": null,
   "metadata": {},
   "outputs": [],
   "source": [
    "import pickle"
   ]
  },
  {
   "cell_type": "code",
   "execution_count": null,
   "metadata": {},
   "outputs": [],
   "source": [
    "with open(datapath+'/Corpora/wiki/enwiki_20200520/Pickles/bi_cf.pkl','wb') as pickfile:\n",
    "    pickle.dump(bi_cf,pickfile)"
   ]
  },
  {
   "cell_type": "code",
   "execution_count": null,
   "metadata": {},
   "outputs": [],
   "source": [
    "#Less memory-intensive?\n",
    "for bigram in bi_cf.ngram_fd.items():\n",
    "     bi_dict[bigram[0]] = [bigram[0], bigram[-1], bi_cf.score_ngram(scorer,bigram[0][0],bigram[0][1])]"
   ]
  },
  {
   "cell_type": "code",
   "execution_count": 12,
   "metadata": {},
   "outputs": [
    {
     "ename": "MemoryError",
     "evalue": "",
     "output_type": "error",
     "traceback": [
      "\u001b[1;31m---------------------------------------------------------------------------\u001b[0m",
      "\u001b[1;31mMemoryError\u001b[0m                               Traceback (most recent call last)",
      "\u001b[1;32m<ipython-input-12-e68d0762dd76>\u001b[0m in \u001b[0;36m<module>\u001b[1;34m\u001b[0m\n\u001b[1;32m----> 1\u001b[1;33m \u001b[1;32mfor\u001b[0m \u001b[0mbigram\u001b[0m \u001b[1;32min\u001b[0m \u001b[0mbi_cf\u001b[0m\u001b[1;33m.\u001b[0m\u001b[0mscore_ngrams\u001b[0m\u001b[1;33m(\u001b[0m\u001b[0mscorer\u001b[0m\u001b[1;33m)\u001b[0m\u001b[1;33m:\u001b[0m\u001b[1;33m\u001b[0m\u001b[1;33m\u001b[0m\u001b[0m\n\u001b[0m\u001b[0;32m      2\u001b[0m     \u001b[0mbi_dict\u001b[0m\u001b[1;33m[\u001b[0m\u001b[0mbigram\u001b[0m\u001b[1;33m[\u001b[0m\u001b[1;36m0\u001b[0m\u001b[1;33m]\u001b[0m\u001b[1;33m]\u001b[0m \u001b[1;33m=\u001b[0m \u001b[1;33m[\u001b[0m\u001b[0mbigram\u001b[0m\u001b[1;33m[\u001b[0m\u001b[1;36m0\u001b[0m\u001b[1;33m]\u001b[0m\u001b[1;33m,\u001b[0m \u001b[0mbi_cf\u001b[0m\u001b[1;33m.\u001b[0m\u001b[0mngram_fd\u001b[0m\u001b[1;33m[\u001b[0m\u001b[0mbigram\u001b[0m\u001b[1;33m[\u001b[0m\u001b[1;36m0\u001b[0m\u001b[1;33m]\u001b[0m\u001b[1;33m]\u001b[0m\u001b[1;33m,\u001b[0m \u001b[0mbigram\u001b[0m\u001b[1;33m[\u001b[0m\u001b[1;33m-\u001b[0m\u001b[1;36m1\u001b[0m\u001b[1;33m]\u001b[0m\u001b[1;33m]\u001b[0m\u001b[1;33m\u001b[0m\u001b[1;33m\u001b[0m\u001b[0m\n",
      "\u001b[1;32m~\\Anaconda3\\envs\\py_36\\lib\\site-packages\\nltk\\collocations.py\u001b[0m in \u001b[0;36mscore_ngrams\u001b[1;34m(self, score_fn)\u001b[0m\n\u001b[0;32m    128\u001b[0m         \u001b[0mlowest\u001b[0m \u001b[0mscore\u001b[0m\u001b[1;33m,\u001b[0m \u001b[1;32mas\u001b[0m \u001b[0mdetermined\u001b[0m \u001b[0mby\u001b[0m \u001b[0mthe\u001b[0m \u001b[0mscoring\u001b[0m \u001b[0mfunction\u001b[0m \u001b[0mprovided\u001b[0m\u001b[1;33m.\u001b[0m\u001b[1;33m\u001b[0m\u001b[1;33m\u001b[0m\u001b[0m\n\u001b[0;32m    129\u001b[0m         \"\"\"\n\u001b[1;32m--> 130\u001b[1;33m         \u001b[1;32mreturn\u001b[0m \u001b[0msorted\u001b[0m\u001b[1;33m(\u001b[0m\u001b[0mself\u001b[0m\u001b[1;33m.\u001b[0m\u001b[0m_score_ngrams\u001b[0m\u001b[1;33m(\u001b[0m\u001b[0mscore_fn\u001b[0m\u001b[1;33m)\u001b[0m\u001b[1;33m,\u001b[0m \u001b[0mkey\u001b[0m\u001b[1;33m=\u001b[0m\u001b[1;32mlambda\u001b[0m \u001b[0mt\u001b[0m\u001b[1;33m:\u001b[0m \u001b[1;33m(\u001b[0m\u001b[1;33m-\u001b[0m\u001b[0mt\u001b[0m\u001b[1;33m[\u001b[0m\u001b[1;36m1\u001b[0m\u001b[1;33m]\u001b[0m\u001b[1;33m,\u001b[0m \u001b[0mt\u001b[0m\u001b[1;33m[\u001b[0m\u001b[1;36m0\u001b[0m\u001b[1;33m]\u001b[0m\u001b[1;33m)\u001b[0m\u001b[1;33m)\u001b[0m\u001b[1;33m\u001b[0m\u001b[1;33m\u001b[0m\u001b[0m\n\u001b[0m\u001b[0;32m    131\u001b[0m \u001b[1;33m\u001b[0m\u001b[0m\n\u001b[0;32m    132\u001b[0m     \u001b[1;32mdef\u001b[0m \u001b[0mnbest\u001b[0m\u001b[1;33m(\u001b[0m\u001b[0mself\u001b[0m\u001b[1;33m,\u001b[0m \u001b[0mscore_fn\u001b[0m\u001b[1;33m,\u001b[0m \u001b[0mn\u001b[0m\u001b[1;33m)\u001b[0m\u001b[1;33m:\u001b[0m\u001b[1;33m\u001b[0m\u001b[1;33m\u001b[0m\u001b[0m\n",
      "\u001b[1;31mMemoryError\u001b[0m: "
     ]
    }
   ],
   "source": [
    "#for bigram in bi_cf.score_ngrams(scorer):\n",
    "#    bi_dict[bigram[0]] = [bigram[0], bi_cf.ngram_fd[bigram[0]], bigram[-1]]"
   ]
  },
  {
   "cell_type": "code",
   "execution_count": null,
   "metadata": {},
   "outputs": [],
   "source": [
    "del bi_cf"
   ]
  },
  {
   "cell_type": "code",
   "execution_count": null,
   "metadata": {},
   "outputs": [],
   "source": [
    "bigram_df = pd.DataFrame.from_dict(bi_dict, orient='index',\n",
    "                       columns=['ngram', 'freq', 'poisson'])"
   ]
  },
  {
   "cell_type": "code",
   "execution_count": null,
   "metadata": {},
   "outputs": [],
   "source": [
    "# Remove dictionaries\n",
    "del bi_dict"
   ]
  },
  {
   "cell_type": "code",
   "execution_count": null,
   "metadata": {},
   "outputs": [],
   "source": []
  },
  {
   "cell_type": "code",
   "execution_count": null,
   "metadata": {},
   "outputs": [],
   "source": [
    "%%time\n",
    "tri_cf = TrigramCollocationFinder.from_words(word_gen(wiki))\n",
    "tri_cf.apply_word_filter(lambda w: w in ('|^|'))  # Filter out associations with sentence boundary marker"
   ]
  },
  {
   "cell_type": "code",
   "execution_count": null,
   "metadata": {},
   "outputs": [],
   "source": [
    "for trigram in tri_cf.score_ngrams(scorer):    \n",
    "    tri_dict[trigram[0]] = [trigram[0], tri_cf.ngram_fd[trigram[0]], trigram[-1]]"
   ]
  },
  {
   "cell_type": "code",
   "execution_count": null,
   "metadata": {},
   "outputs": [],
   "source": [
    "del tri_cf"
   ]
  },
  {
   "cell_type": "code",
   "execution_count": null,
   "metadata": {},
   "outputs": [],
   "source": [
    "trigram_df = pd.DataFrame.from_dict(tri_dict, orient='index',\n",
    "                       columns=['ngram', 'freq', 'poisson'])"
   ]
  },
  {
   "cell_type": "code",
   "execution_count": null,
   "metadata": {},
   "outputs": [],
   "source": [
    "# Remove dictionaries\n",
    "del tri_dict"
   ]
  },
  {
   "cell_type": "code",
   "execution_count": null,
   "metadata": {},
   "outputs": [],
   "source": []
  },
  {
   "cell_type": "code",
   "execution_count": null,
   "metadata": {},
   "outputs": [],
   "source": []
  },
  {
   "cell_type": "code",
   "execution_count": null,
   "metadata": {},
   "outputs": [],
   "source": [
    "ngram_df = bigram_df.append(trigram_df).sort_values('poisson', ascending=False).reset_index(drop=True)"
   ]
  },
  {
   "cell_type": "code",
   "execution_count": null,
   "metadata": {},
   "outputs": [],
   "source": [
    "# Remove separate instances\n",
    "del bi_df\n",
    "del tri_df"
   ]
  },
  {
   "cell_type": "code",
   "execution_count": null,
   "metadata": {},
   "outputs": [],
   "source": [
    "ngram_df['len'] = ngram_df.ngram.apply(len)"
   ]
  },
  {
   "cell_type": "code",
   "execution_count": null,
   "metadata": {},
   "outputs": [],
   "source": [
    "ngram_df"
   ]
  },
  {
   "cell_type": "code",
   "execution_count": null,
   "metadata": {},
   "outputs": [],
   "source": [
    "#len(wiki.words())"
   ]
  },
  {
   "cell_type": "markdown",
   "metadata": {},
   "source": [
    "We then automatically score the million most strongly associated\n",
    "n-grams (i.e., roughly the top 5% of the Poisson-ranked\n",
    "list) for compositionality.\n",
    "\n",
    "Using word2vec (Mikolov et al., 2013) with the parameters\n",
    "found to be most effective by Baroni et al. (2014), we\n",
    "build a word embedding vector for every simplex word in\n",
    "the vocabulary (ca. 1M types), as well as for each MWE candidate.\n",
    "\n",
    "* Continuous bag of words model with 400-dimensional vectors, window size 5, subsampling with t = 10^-5, negative sampling with 10 samples. We build vectors only for tokens observed 20 times or more in the corpus.\n",
    "\n",
    "We then compute the cosine similarity of the vector\n",
    "representation for a MWE candidate with the vectors of its\n",
    "constituent words, and take the arithmetic mean. \n",
    "In scoring\n",
    "the compositionality of a candidate, we do not measure the\n",
    "cosine similarity of the MWE with any stop words it may\n",
    "contain, as stop words may be assumed to be semantically\n",
    "uninformative.\n",
    "* Stop words are taken here to be the 50 most frequent words in the vocabulary."
   ]
  },
  {
   "cell_type": "code",
   "execution_count": null,
   "metadata": {},
   "outputs": [],
   "source": [
    "%%time\n",
    "\n",
    "# Stopwords from corpus - 50 most frequent\n",
    "from nltk import FreqDist\n",
    "\n",
    "fdist = FreqDist(word_gen(wiki, sent_mark=''))\n",
    "\n",
    "stop = set( word for word, f in fdist.most_common(50))"
   ]
  },
  {
   "cell_type": "code",
   "execution_count": null,
   "metadata": {},
   "outputs": [],
   "source": [
    "stop"
   ]
  },
  {
   "cell_type": "code",
   "execution_count": null,
   "metadata": {},
   "outputs": [],
   "source": [
    "from batcher import batcher  # Custom module with logic for assigning n-grams to batches, avoiding overlap"
   ]
  },
  {
   "cell_type": "code",
   "execution_count": null,
   "metadata": {},
   "outputs": [],
   "source": [
    "min_freq = 20"
   ]
  },
  {
   "cell_type": "code",
   "execution_count": null,
   "metadata": {},
   "outputs": [],
   "source": [
    "# Duplicate entries appearing for some reason. Removing here\n",
    "ngram_df2 = ngram_df[ngram_df.freq >= min_freq].drop_duplicates().reset_index(drop=True)"
   ]
  },
  {
   "cell_type": "code",
   "execution_count": null,
   "metadata": {},
   "outputs": [],
   "source": [
    "# Clean up\n",
    "del ngram_df"
   ]
  },
  {
   "cell_type": "code",
   "execution_count": null,
   "metadata": {},
   "outputs": [],
   "source": [
    "eval_count = 1000000\n",
    "\n",
    "ngram_eval = ngram_df2[0:eval_count]\n",
    "\n",
    "ngram_eval"
   ]
  },
  {
   "cell_type": "code",
   "execution_count": null,
   "metadata": {},
   "outputs": [],
   "source": [
    "# Clean up\n",
    "del ngram_df2"
   ]
  },
  {
   "cell_type": "code",
   "execution_count": null,
   "metadata": {},
   "outputs": [],
   "source": [
    "%%time\n",
    "\n",
    "batches, batch_count = batcher(ngram_eval.ngram, stopwords=stop, max_batches = 10)\n",
    "\n",
    "batches"
   ]
  },
  {
   "cell_type": "code",
   "execution_count": null,
   "metadata": {},
   "outputs": [],
   "source": [
    "len(batches)"
   ]
  },
  {
   "cell_type": "code",
   "execution_count": null,
   "metadata": {},
   "outputs": [],
   "source": [
    "# Should be able to add batch information using df.map() but am encountering errors apparently relating\n",
    "#  to indexing - workaround (though slower).\n",
    "\n",
    "ngb_cols = [\"ngram\", \"batch\"]\n",
    "rows = []\n",
    "\n",
    "for ng in ngram_eval['ngram']:\n",
    "    rows.append({\"ngram\" : ng,\n",
    "                \"batch\" : batches[ng]})\n",
    "    \n",
    "ng_batch = pd.DataFrame(rows, columns = ngb_cols)"
   ]
  },
  {
   "cell_type": "code",
   "execution_count": null,
   "metadata": {},
   "outputs": [],
   "source": [
    "ngram_eval = ngram_eval.merge(ng_batch, on='ngram')\n",
    "\n",
    "ngram_eval"
   ]
  },
  {
   "cell_type": "code",
   "execution_count": null,
   "metadata": {},
   "outputs": [],
   "source": [
    "# Cleanup\n",
    "del rows, ng_batch"
   ]
  },
  {
   "cell_type": "code",
   "execution_count": null,
   "metadata": {},
   "outputs": [],
   "source": [
    "ngram_eval.batch.value_counts()"
   ]
  },
  {
   "cell_type": "code",
   "execution_count": null,
   "metadata": {},
   "outputs": [],
   "source": [
    "from nltk.tokenize import MWETokenizer\n",
    "from scipy.spatial.distance import cosine\n",
    "from sklearn.metrics.pairwise import cosine_similarity\n",
    "import numpy as np\n",
    "\n",
    "# Flatten down to a single number\n",
    "def cosim(x,y):\n",
    "    return cosine_similarity(x.reshape(1,-1), y.reshape(1,-1))[0][0]"
   ]
  },
  {
   "cell_type": "code",
   "execution_count": null,
   "metadata": {},
   "outputs": [],
   "source": []
  },
  {
   "cell_type": "code",
   "execution_count": null,
   "metadata": {},
   "outputs": [],
   "source": []
  },
  {
   "cell_type": "code",
   "execution_count": null,
   "metadata": {},
   "outputs": [],
   "source": [
    "%%time\n",
    "\n",
    "batch_dfs = {}\n",
    "\n",
    "for bb in range(batch_count):\n",
    "    # Subset DataFrame\n",
    "    batch_dfs[bb] = ngram_eval[ngram_eval.batch == bb+1].reset_index(drop=True)\n",
    "    \n",
    "    # Initialise MWETokenizer\n",
    "    batch_token_mwe = MWETokenizer(list(batch_dfs[bb].ngram) , separator='+')\n",
    "    \n",
    "    # Build model\n",
    "    sents_mwe = Sent_Seq(wiki, batch_token_mwe)\n",
    "    \n",
    "    batch_model = Word2Vec(sents_mwe,\n",
    "                             min_count = 20,  # 20 matches R&E on EN Wiki\n",
    "                             size = 400,\n",
    "                             workers = 8,\n",
    "                             window = 5,\n",
    "                             sg = 0,         # CBOW\n",
    "                             sample = 10e-5, # Subsampling\n",
    "                             negative = 10\n",
    "                            )\n",
    "\n",
    "    # Save model\n",
    "    batch_model.save(datapath+'/Models/1 w2v/wiki20_batch{}.model'.format(bb+1))\n",
    "    # Reload looks like    new_model = gensim.models.Word2Vec.load('/tmp/mymodel')\n",
    "    \n",
    "    # For each MWE, evaluate stats. Record vectors (in case we want to calculate different metrics later).\n",
    "    statsf = pd.DataFrame(columns=['ngram', 'stopwords', 'mwe_vector', 'component_vectors', 'component_cosims', \n",
    "                                   'cosine_sim', 'base_nearest', 'mwe_nearest'])\n",
    "\n",
    "    for exp in batch_dfs[bb].ngram:\n",
    "        # Combined token for MWE\n",
    "        mwetoken = '+'.join(exp)\n",
    "        \n",
    "        # Stopwords - 1 if component is a stopword, 0 if present, -1 if simplex word missing from vocab, -2 if MWE missing\n",
    "        sws = []\n",
    "        # Component vectors\n",
    "        cvs = []\n",
    "\n",
    "        #  Neighbours in original & MWE-aware space\n",
    "        oldn = []\n",
    "        newn = []\n",
    "      \n",
    "        # List of individual word similarities (where present in the vocab)\n",
    "        css = []\n",
    "        \n",
    "        # Empty array\n",
    "        earr = np.empty(1000)\n",
    "        earr[:] = np.nan\n",
    "        \n",
    "        # Check that combined token exists in the vocab. This protects against inflation of n-gram counts caused by repeats\n",
    "        #  of the same token (e.g. in lists like https://simple.wikipedia.org/wiki/List_of_cities,_towns_and_villages_in_Fars_Province)\n",
    "        if mwetoken in batch_model.wv.vocab:\n",
    "            \n",
    "            mwv = batch_model.wv[mwetoken]\n",
    "\n",
    "            for w in exp:\n",
    "                if w in batch_model.wv.vocab:\n",
    "                    cvs.append(batch_model.wv[w])\n",
    "\n",
    "                    oldn.append(batch_model.wv.most_similar(w, topn=5))\n",
    "\n",
    "                    if w in stop:\n",
    "                        sws.append(1)\n",
    "                        css.append(np.nan)\n",
    "                    else:\n",
    "                        sws.append(0)\n",
    "                        css.append(cosim(batch_model.wv[w], mwv ))\n",
    "\n",
    "                # If component is absent from vocab\n",
    "                else:\n",
    "                    sws.append(-1)\n",
    "                    cvs.append(earr)\n",
    "                    css.append(np.nan)\n",
    "\n",
    "                    oldn.append([])\n",
    "\n",
    "\n",
    "            #  Mean cosim\n",
    "            if min(sws) >= 0:\n",
    "                cs = np.nanmean(css)\n",
    "            else:\n",
    "                cs = np.nan\n",
    "\n",
    "            newn = batch_model.wv.most_similar(mwetoken, topn=5)\n",
    "            \n",
    "        # Combined token missing from vocab - mark with defaults\n",
    "        else:\n",
    "            sws = [-2]\n",
    "            mwv = np.empty(400)\n",
    "            mwv[:] = np.nan\n",
    "\n",
    "            \n",
    "        # Append to stats df\n",
    "        statsf = statsf.append({\n",
    "            'ngram'  : exp,\n",
    "            'stopwords' : sws,\n",
    "            'mwe_vector' : mwv,\n",
    "            'component_vectors' : cvs,\n",
    "            'component_cosims'  : css,\n",
    "            'cosine_sim'  : cs,\n",
    "            'base_nearest': oldn,\n",
    "            'mwe_nearest' : newn,\n",
    "        }, ignore_index=True)\n",
    "\n",
    "    #  Join back onto DataFrame\n",
    "    batch_dfs[bb] = batch_dfs[bb].merge(statsf, on='ngram')\n",
    "    \n",
    "    \n",
    "batch_dfs"
   ]
  },
  {
   "cell_type": "code",
   "execution_count": null,
   "metadata": {},
   "outputs": [],
   "source": [
    "# Model inspection\n",
    "batch_model.wv.similarity('April', 'August')\n",
    "batch_model.wv.similarity('woman', 'man')\n",
    "batch_model.wv.most_similar(positive=['woman', 'king'], negative=['man'])\n",
    "batch_model.wv.most_similar('relationships', topn=5)"
   ]
  },
  {
   "cell_type": "code",
   "execution_count": null,
   "metadata": {},
   "outputs": [],
   "source": [
    "# Merge dataframes, sort by compositionality metric, export\n",
    "\n",
    "# Also want the default batches with batch no < 0\n",
    "all_batches = ngram_eval[ngram_eval.batch < 0]\n",
    "\n",
    "for d in range(batch_count):\n",
    "    all_batches = all_batches.append(batch_dfs[d])\n",
    "    \n",
    "all_batches = all_batches.sort_values('cosine_sim')\n",
    "all_batches = all_batches.reset_index(drop=True)\n",
    "\n",
    "all_batches.to_csv(datapath+'/Models/1 w2v/Results/wiki20_output_001.csv', index=False)"
   ]
  },
  {
   "cell_type": "code",
   "execution_count": null,
   "metadata": {},
   "outputs": [],
   "source": [
    "all_batches"
   ]
  },
  {
   "cell_type": "code",
   "execution_count": null,
   "metadata": {},
   "outputs": [],
   "source": []
  }
 ],
 "metadata": {
  "kernelspec": {
   "display_name": "Python 3",
   "language": "python",
   "name": "python3"
  },
  "language_info": {
   "codemirror_mode": {
    "name": "ipython",
    "version": 3
   },
   "file_extension": ".py",
   "mimetype": "text/x-python",
   "name": "python",
   "nbconvert_exporter": "python",
   "pygments_lexer": "ipython3",
   "version": "3.6.10"
  }
 },
 "nbformat": 4,
 "nbformat_minor": 4
}
