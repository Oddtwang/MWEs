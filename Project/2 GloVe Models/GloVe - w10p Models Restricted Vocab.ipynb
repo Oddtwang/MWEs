{
 "cells": [
  {
   "cell_type": "code",
   "execution_count": 1,
   "metadata": {},
   "outputs": [
    {
     "data": {
      "text/plain": [
       "'C:\\\\Users\\\\User\\\\Google Drive\\\\University\\\\Dissertation\\\\Code'"
      ]
     },
     "execution_count": 1,
     "metadata": {},
     "output_type": "execute_result"
    }
   ],
   "source": [
    "import os\n",
    "\n",
    "path = 'C:/Users/'+os.getlogin()+'/Google Drive/University/Dissertation'\n",
    "datapath = 'E:/Dissertation Data'\n",
    "\n",
    "os.chdir(path+'/Code')\n",
    "os.getcwd()"
   ]
  },
  {
   "cell_type": "code",
   "execution_count": 2,
   "metadata": {},
   "outputs": [],
   "source": [
    "import pickle\n",
    "\n",
    "import re\n",
    "import numpy as np\n",
    "import pandas as pd\n",
    "\n",
    "from nltk.corpus.reader.plaintext import PlaintextCorpusReader\n",
    "from nltk.tokenize import MWETokenizer, WhitespaceTokenizer\n",
    "\n",
    "from glove import Corpus, Glove\n",
    "from scipy import sparse\n",
    "from gensim import corpora\n",
    "\n",
    "from generators import sent_gen, word_gen, Sent_Seq"
   ]
  },
  {
   "cell_type": "code",
   "execution_count": 3,
   "metadata": {},
   "outputs": [],
   "source": [
    "w10p = PlaintextCorpusReader(datapath+'/Corpora/wiki/enwiki_20200520/','enwiki_20200520_10pc.txt',\n",
    "                            word_tokenizer = WhitespaceTokenizer()\n",
    "                            )"
   ]
  },
  {
   "cell_type": "code",
   "execution_count": 4,
   "metadata": {},
   "outputs": [],
   "source": [
    "min_freq = 20\n",
    "eval_count = 500000"
   ]
  },
  {
   "cell_type": "code",
   "execution_count": 5,
   "metadata": {},
   "outputs": [],
   "source": [
    "\n",
    "ngram_eval = pd.read_pickle(datapath+'/Corpora/wiki/enwiki_20200520/10pc_ngram_eval.pkl')"
   ]
  },
  {
   "cell_type": "code",
   "execution_count": 6,
   "metadata": {},
   "outputs": [
    {
     "data": {
      "text/plain": [
       " 1     94011\n",
       " 2     79538\n",
       " 3     69221\n",
       " 4     56154\n",
       " 5     48934\n",
       " 6     38288\n",
       " 7     30374\n",
       "-1     29076\n",
       " 8     22495\n",
       " 9     19272\n",
       " 10    11300\n",
       "-2      1337\n",
       "Name: batch, dtype: int64"
      ]
     },
     "execution_count": 6,
     "metadata": {},
     "output_type": "execute_result"
    }
   ],
   "source": [
    "ngram_eval.batch.value_counts()"
   ]
  },
  {
   "cell_type": "code",
   "execution_count": 16,
   "metadata": {},
   "outputs": [
    {
     "data": {
      "text/plain": [
       "10"
      ]
     },
     "execution_count": 16,
     "metadata": {},
     "output_type": "execute_result"
    }
   ],
   "source": [
    "batch_count = max(ngram_eval.batch)\n",
    "batch_count"
   ]
  },
  {
   "cell_type": "code",
   "execution_count": 8,
   "metadata": {},
   "outputs": [],
   "source": [
    "def invert_dict(dic,shift=0):\n",
    "    return {value:key+shift for (key, value) in dic.items()}\n",
    "\n",
    "def removekey(d, key):\n",
    "    r = dict(d)\n",
    "    del r[key]\n",
    "    return r"
   ]
  },
  {
   "cell_type": "code",
   "execution_count": 9,
   "metadata": {},
   "outputs": [],
   "source": [
    "#batch_count = 1"
   ]
  },
  {
   "cell_type": "code",
   "execution_count": 17,
   "metadata": {},
   "outputs": [
    {
     "name": "stdout",
     "output_type": "stream",
     "text": [
      "Processing batch 2 of 10\n",
      " Loading dictionary\n",
      " Fitting matrix\n",
      " Building GloVe model\n",
      "Performing 25 training epochs with 8 threads\n",
      "Epoch 0\n",
      "Epoch 1\n",
      "Epoch 2\n",
      "Epoch 3\n",
      "Epoch 4\n",
      "Epoch 5\n",
      "Epoch 6\n",
      "Epoch 7\n",
      "Epoch 8\n",
      "Epoch 9\n",
      "Epoch 10\n",
      "Epoch 11\n",
      "Epoch 12\n",
      "Epoch 13\n",
      "Epoch 14\n",
      "Epoch 15\n",
      "Epoch 16\n",
      "Epoch 17\n",
      "Epoch 18\n",
      "Epoch 19\n",
      "Epoch 20\n",
      "Epoch 21\n",
      "Epoch 22\n",
      "Epoch 23\n",
      "Epoch 24\n",
      " Adding dictionary\n",
      " Saving model\n",
      "Processing batch 3 of 10\n",
      " Loading dictionary\n",
      " Fitting matrix\n",
      " Building GloVe model\n",
      "Performing 25 training epochs with 8 threads\n",
      "Epoch 0\n",
      "Epoch 1\n",
      "Epoch 2\n",
      "Epoch 3\n",
      "Epoch 4\n",
      "Epoch 5\n",
      "Epoch 6\n",
      "Epoch 7\n",
      "Epoch 8\n",
      "Epoch 9\n",
      "Epoch 10\n",
      "Epoch 11\n",
      "Epoch 12\n",
      "Epoch 13\n",
      "Epoch 14\n",
      "Epoch 15\n",
      "Epoch 16\n",
      "Epoch 17\n",
      "Epoch 18\n",
      "Epoch 19\n",
      "Epoch 20\n",
      "Epoch 21\n",
      "Epoch 22\n",
      "Epoch 23\n",
      "Epoch 24\n",
      " Adding dictionary\n",
      " Saving model\n",
      "Processing batch 4 of 10\n",
      " Loading dictionary\n",
      " Fitting matrix\n",
      " Building GloVe model\n",
      "Performing 25 training epochs with 8 threads\n",
      "Epoch 0\n",
      "Epoch 1\n",
      "Epoch 2\n",
      "Epoch 3\n",
      "Epoch 4\n",
      "Epoch 5\n",
      "Epoch 6\n",
      "Epoch 7\n",
      "Epoch 8\n",
      "Epoch 9\n",
      "Epoch 10\n",
      "Epoch 11\n",
      "Epoch 12\n",
      "Epoch 13\n",
      "Epoch 14\n",
      "Epoch 15\n",
      "Epoch 16\n",
      "Epoch 17\n",
      "Epoch 18\n",
      "Epoch 19\n",
      "Epoch 20\n",
      "Epoch 21\n",
      "Epoch 22\n",
      "Epoch 23\n",
      "Epoch 24\n",
      " Adding dictionary\n",
      " Saving model\n",
      "Processing batch 5 of 10\n",
      " Loading dictionary\n",
      " Fitting matrix\n",
      " Building GloVe model\n",
      "Performing 25 training epochs with 8 threads\n",
      "Epoch 0\n",
      "Epoch 1\n",
      "Epoch 2\n",
      "Epoch 3\n",
      "Epoch 4\n",
      "Epoch 5\n",
      "Epoch 6\n",
      "Epoch 7\n",
      "Epoch 8\n",
      "Epoch 9\n",
      "Epoch 10\n",
      "Epoch 11\n",
      "Epoch 12\n",
      "Epoch 13\n",
      "Epoch 14\n",
      "Epoch 15\n",
      "Epoch 16\n",
      "Epoch 17\n",
      "Epoch 18\n",
      "Epoch 19\n",
      "Epoch 20\n",
      "Epoch 21\n",
      "Epoch 22\n",
      "Epoch 23\n",
      "Epoch 24\n",
      " Adding dictionary\n",
      " Saving model\n",
      "Processing batch 6 of 10\n",
      " Loading dictionary\n",
      " Fitting matrix\n",
      " Building GloVe model\n",
      "Performing 25 training epochs with 8 threads\n",
      "Epoch 0\n",
      "Epoch 1\n",
      "Epoch 2\n",
      "Epoch 3\n",
      "Epoch 4\n",
      "Epoch 5\n",
      "Epoch 6\n",
      "Epoch 7\n",
      "Epoch 8\n",
      "Epoch 9\n",
      "Epoch 10\n",
      "Epoch 11\n",
      "Epoch 12\n",
      "Epoch 13\n",
      "Epoch 14\n",
      "Epoch 15\n",
      "Epoch 16\n",
      "Epoch 17\n",
      "Epoch 18\n",
      "Epoch 19\n",
      "Epoch 20\n",
      "Epoch 21\n",
      "Epoch 22\n",
      "Epoch 23\n",
      "Epoch 24\n",
      " Adding dictionary\n",
      " Saving model\n",
      "Processing batch 7 of 10\n",
      " Loading dictionary\n",
      " Fitting matrix\n",
      " Building GloVe model\n",
      "Performing 25 training epochs with 8 threads\n",
      "Epoch 0\n",
      "Epoch 1\n",
      "Epoch 2\n",
      "Epoch 3\n",
      "Epoch 4\n",
      "Epoch 5\n",
      "Epoch 6\n",
      "Epoch 7\n",
      "Epoch 8\n",
      "Epoch 9\n",
      "Epoch 10\n",
      "Epoch 11\n",
      "Epoch 12\n",
      "Epoch 13\n",
      "Epoch 14\n",
      "Epoch 15\n",
      "Epoch 16\n",
      "Epoch 17\n",
      "Epoch 18\n",
      "Epoch 19\n",
      "Epoch 20\n",
      "Epoch 21\n",
      "Epoch 22\n",
      "Epoch 23\n",
      "Epoch 24\n",
      " Adding dictionary\n",
      " Saving model\n",
      "Processing batch 8 of 10\n",
      " Loading dictionary\n",
      " Fitting matrix\n",
      " Building GloVe model\n",
      "Performing 25 training epochs with 8 threads\n",
      "Epoch 0\n",
      "Epoch 1\n",
      "Epoch 2\n",
      "Epoch 3\n",
      "Epoch 4\n",
      "Epoch 5\n",
      "Epoch 6\n",
      "Epoch 7\n",
      "Epoch 8\n",
      "Epoch 9\n",
      "Epoch 10\n",
      "Epoch 11\n",
      "Epoch 12\n",
      "Epoch 13\n",
      "Epoch 14\n",
      "Epoch 15\n",
      "Epoch 16\n",
      "Epoch 17\n",
      "Epoch 18\n",
      "Epoch 19\n",
      "Epoch 20\n",
      "Epoch 21\n",
      "Epoch 22\n",
      "Epoch 23\n",
      "Epoch 24\n",
      " Adding dictionary\n",
      " Saving model\n",
      "Processing batch 9 of 10\n",
      " Loading dictionary\n",
      " Fitting matrix\n",
      " Building GloVe model\n",
      "Performing 25 training epochs with 8 threads\n",
      "Epoch 0\n",
      "Epoch 1\n",
      "Epoch 2\n",
      "Epoch 3\n",
      "Epoch 4\n",
      "Epoch 5\n",
      "Epoch 6\n",
      "Epoch 7\n",
      "Epoch 8\n",
      "Epoch 9\n",
      "Epoch 10\n",
      "Epoch 11\n",
      "Epoch 12\n",
      "Epoch 13\n",
      "Epoch 14\n",
      "Epoch 15\n",
      "Epoch 16\n",
      "Epoch 17\n",
      "Epoch 18\n",
      "Epoch 19\n",
      "Epoch 20\n",
      "Epoch 21\n",
      "Epoch 22\n",
      "Epoch 23\n",
      "Epoch 24\n",
      " Adding dictionary\n",
      " Saving model\n",
      "Processing batch 10 of 10\n",
      " Loading dictionary\n",
      " Fitting matrix\n",
      " Building GloVe model\n",
      "Performing 25 training epochs with 8 threads\n",
      "Epoch 0\n",
      "Epoch 1\n",
      "Epoch 2\n",
      "Epoch 3\n",
      "Epoch 4\n",
      "Epoch 5\n",
      "Epoch 6\n",
      "Epoch 7\n",
      "Epoch 8\n",
      "Epoch 9\n",
      "Epoch 10\n",
      "Epoch 11\n",
      "Epoch 12\n",
      "Epoch 13\n",
      "Epoch 14\n",
      "Epoch 15\n",
      "Epoch 16\n",
      "Epoch 17\n",
      "Epoch 18\n",
      "Epoch 19\n",
      "Epoch 20\n",
      "Epoch 21\n",
      "Epoch 22\n",
      "Epoch 23\n",
      "Epoch 24\n",
      " Adding dictionary\n",
      " Saving model\n",
      "Wall time: 1d 8h 19min 3s\n"
     ]
    }
   ],
   "source": [
    "%%time\n",
    "\n",
    "batch_dfs = {}\n",
    "\n",
    "for bb in range(batch_count):\n",
    "    print('Processing batch {} of {}'.format(bb+1,batch_count))\n",
    "    \n",
    "    # Subset DataFrame\n",
    "    batch_dfs[bb] = ngram_eval[ngram_eval.batch == bb+1].reset_index(drop=True)\n",
    "    \n",
    "    # Initialise MWETokenizer\n",
    "    batch_token_mwe = MWETokenizer(list(batch_dfs[bb].ngram) , separator='+')\n",
    "    \n",
    "    #  Load pickled vocab set\n",
    "    with open(datapath+'/Corpora/wiki/enwiki_20200520/10pc_b{}vocab.pkl'.format(bb+1), 'rb') as pfile:\n",
    "        batch_vocab = pickle.load(pfile)\n",
    "    \n",
    "    print(' Loading dictionary')\n",
    "    #  Load pickled dictionary\n",
    "    with open(datapath+'/Corpora/wiki/enwiki_20200520/Pickles/10pc_b{}_dict.pkl'.format(bb+1), 'rb') as pfile:\n",
    "        batch_dict = pickle.load(pfile)\n",
    "        \n",
    "    #  Invert, remove '<unk>', shift indices by -1\n",
    "    batch_dict = removekey(invert_dict(batch_dict, shift=-1), '<unk>')\n",
    "    \n",
    "    print(' Fitting matrix')\n",
    "    w10p_corp = Corpus(batch_dict)\n",
    "\n",
    "    sents_mwe = Sent_Seq(w10p, batch_token_mwe, vocab=batch_vocab)\n",
    "    \n",
    "    # Ignore missing flag set, as vocab restricted\n",
    "    w10p_corp.fit( sents_mwe , window = 10, ignore_missing=True)\n",
    "    \n",
    "    \n",
    "    print(' Building GloVe model')\n",
    "    model = Glove(no_components=300, \n",
    "                  alpha = 0.75, \n",
    "                  max_count = 100,\n",
    "                  learning_rate=0.05)\n",
    "    \n",
    "    #model.fit(simp_corp.matrix, epochs=25, no_threads=8, verbose=True)\n",
    "    model.fit(w10p_corp.matrix, epochs=25, no_threads=8, verbose=True)\n",
    "    \n",
    "    print(' Adding dictionary')\n",
    "    model.add_dictionary(w10p_corp.dictionary)\n",
    "    \n",
    "    # Save model\n",
    "    print(' Saving model')\n",
    "    model.save(datapath+'/Models/2 GloVe/w10p_glove_vocab_batch{}.model'.format(bb+1))   \n",
    "\n"
   ]
  },
  {
   "cell_type": "code",
   "execution_count": 12,
   "metadata": {},
   "outputs": [
    {
     "name": "stdout",
     "output_type": "stream",
     "text": [
      " Saving model\n"
     ]
    }
   ],
   "source": [
    "model.add_dictionary(w10p_corp.dictionary)\n",
    "    \n",
    "    # Save model\n",
    "print(' Saving model')\n",
    "model.save(datapath+'/Models/2 GloVe/w10p_glove_vocab_batch{}.model'.format(0+1))   \n"
   ]
  },
  {
   "cell_type": "code",
   "execution_count": 11,
   "metadata": {},
   "outputs": [
    {
     "data": {
      "text/plain": [
       "[('banks', 0.9705410874528305),\n",
       " ('Eurovision', 0.9661675535912082),\n",
       " ('museums', 0.9645120915366855),\n",
       " ('São', 0.9575681776302074),\n",
       " ('Bar', 0.9561931570169429)]"
      ]
     },
     "execution_count": 11,
     "metadata": {},
     "output_type": "execute_result"
    }
   ],
   "source": [
    "# Original COO matrix\n",
    "# model.most_similar('relationships', number=6)"
   ]
  },
  {
   "cell_type": "code",
   "execution_count": 28,
   "metadata": {},
   "outputs": [
    {
     "data": {
      "text/plain": [
       "[('Chris+Thile', 0.2778770494212326),\n",
       " ('was+travelling', 0.23399237828058395),\n",
       " ('parliamentary', 0.23374034078911354),\n",
       " ('the+Way+of', 0.233284549898124),\n",
       " ('Gluttony', 0.22860027521751752)]"
      ]
     },
     "execution_count": 28,
     "metadata": {},
     "output_type": "execute_result"
    }
   ],
   "source": [
    "# Without 0th row and column\n",
    "#model.most_similar('relationships', number=6)"
   ]
  },
  {
   "cell_type": "code",
   "execution_count": 18,
   "metadata": {},
   "outputs": [
    {
     "data": {
      "text/plain": [
       "[('proteins', 0.9513887932507497),\n",
       " ('spots', 0.9428021658554301),\n",
       " ('daughter', 0.9409947349321203),\n",
       " ('Wilson', 0.9367265613197017),\n",
       " ('services', 0.9348989287751218)]"
      ]
     },
     "execution_count": 18,
     "metadata": {},
     "output_type": "execute_result"
    }
   ],
   "source": [
    "# COO matrix self-built, restricted vocab\n",
    "#model.most_similar('relationships', number=6)"
   ]
  },
  {
   "cell_type": "code",
   "execution_count": 22,
   "metadata": {},
   "outputs": [
    {
     "data": {
      "text/plain": [
       "[('macron', 0.9496588178319133),\n",
       " ('create', 0.9418371012697576),\n",
       " ('stretched', 0.9202446780377442),\n",
       " ('practical', 0.9135404567297558),\n",
       " ('thinks', 0.9135348377719998)]"
      ]
     },
     "execution_count": 22,
     "metadata": {},
     "output_type": "execute_result"
    }
   ],
   "source": [
    "# COO matrix self-built, restricted vocab, 50 epochs\n",
    "#model.most_similar('relationships', number=6)"
   ]
  },
  {
   "cell_type": "code",
   "execution_count": null,
   "metadata": {},
   "outputs": [],
   "source": []
  },
  {
   "cell_type": "code",
   "execution_count": null,
   "metadata": {},
   "outputs": [],
   "source": []
  },
  {
   "cell_type": "code",
   "execution_count": 13,
   "metadata": {},
   "outputs": [
    {
     "data": {
      "text/plain": [
       "[('hosted', 0.9178624078243787),\n",
       " ('feature+film', 0.9014592357080624),\n",
       " ('volume', 0.900332952816841),\n",
       " ('is+named', 0.8998926599437359),\n",
       " ('levels+of', 0.896896701434123)]"
      ]
     },
     "execution_count": 13,
     "metadata": {},
     "output_type": "execute_result"
    }
   ],
   "source": [
    "# On w10p\n",
    "model.most_similar('relationships', number=6)"
   ]
  },
  {
   "cell_type": "code",
   "execution_count": null,
   "metadata": {},
   "outputs": [],
   "source": []
  },
  {
   "cell_type": "code",
   "execution_count": 18,
   "metadata": {},
   "outputs": [
    {
     "data": {
      "text/plain": [
       "[('small', 0.9648814957316012),\n",
       " ('structure', 0.9326739554956462),\n",
       " ('distinct', 0.9306723332790285),\n",
       " ('complex', 0.9303893377218648),\n",
       " ('used', 0.9270431667358916)]"
      ]
     },
     "execution_count": 18,
     "metadata": {},
     "output_type": "execute_result"
    }
   ],
   "source": [
    "model.most_similar('large', number=6)"
   ]
  },
  {
   "cell_type": "code",
   "execution_count": 19,
   "metadata": {},
   "outputs": [
    {
     "data": {
      "text/plain": [
       "[('situation', 0.9312773860232666),\n",
       " ('much', 0.9310067969362218),\n",
       " ('resulting', 0.9255208933924305),\n",
       " ('own', 0.9235949948033259),\n",
       " ('real', 0.9225923293095144)]"
      ]
     },
     "execution_count": 19,
     "metadata": {},
     "output_type": "execute_result"
    }
   ],
   "source": [
    "model.most_similar('great', number=6)"
   ]
  }
 ],
 "metadata": {
  "kernelspec": {
   "display_name": "Python 3",
   "language": "python",
   "name": "python3"
  },
  "language_info": {
   "codemirror_mode": {
    "name": "ipython",
    "version": 3
   },
   "file_extension": ".py",
   "mimetype": "text/x-python",
   "name": "python",
   "nbconvert_exporter": "python",
   "pygments_lexer": "ipython3",
   "version": "3.6.10"
  }
 },
 "nbformat": 4,
 "nbformat_minor": 4
}
