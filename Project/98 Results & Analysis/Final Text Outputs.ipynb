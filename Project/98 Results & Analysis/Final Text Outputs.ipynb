{
 "cells": [
  {
   "cell_type": "markdown",
   "metadata": {},
   "source": [
    "Output files without vectors - makes them much smaller, but would need full thing to calculate different distance measures etc."
   ]
  },
  {
   "cell_type": "code",
   "execution_count": 1,
   "metadata": {},
   "outputs": [
    {
     "data": {
      "text/plain": [
       "'C:\\\\Users\\\\tom\\\\Google Drive\\\\University\\\\Dissertation'"
      ]
     },
     "execution_count": 1,
     "metadata": {},
     "output_type": "execute_result"
    }
   ],
   "source": [
    "import os\n",
    "\n",
    "path = 'C:/Users/'+os.getlogin()+'/Google Drive/University/Dissertation'\n",
    "datapath = 'C:/Users/'+os.getlogin()+'/Dissertation Data'\n",
    "#datapath = 'E:/Dissertation Data'\n",
    "\n",
    "os.chdir(path)\n",
    "os.getcwd()"
   ]
  },
  {
   "cell_type": "code",
   "execution_count": 2,
   "metadata": {},
   "outputs": [],
   "source": [
    "import pandas as pd\n",
    "import numpy as np\n",
    "\n",
    "def exp_to_tuple(exp,sep=' '):\n",
    "    return tuple(exp.split(sep))"
   ]
  },
  {
   "cell_type": "code",
   "execution_count": 12,
   "metadata": {},
   "outputs": [],
   "source": [
    "converter = {'ngram' : eval,\n",
    "             #'stopwords' : eval\n",
    "             #'mwe_vector' : eval,\n",
    "             #'component_vectors' : eval,\n",
    "             #'base_nearest' : eval,\n",
    "             #'mwe_nearest' : eval,\n",
    "            }\n",
    "\n",
    "w10p_w2v_light = pd.read_csv(datapath+'/Models/1 w2v/Results/wiki10pc_light_001.csv', \n",
    "                             converters= converter)\n"
   ]
  },
  {
   "cell_type": "code",
   "execution_count": 13,
   "metadata": {},
   "outputs": [],
   "source": [
    "w10p_w2v_light = w10p_w2v_light.drop(columns=['batch', 'len'])"
   ]
  },
  {
   "cell_type": "code",
   "execution_count": 14,
   "metadata": {},
   "outputs": [],
   "source": [
    "w10p_w2v_light = w10p_w2v_light[~np.isnan(w10p_w2v_light.cosine_sim)]"
   ]
  },
  {
   "cell_type": "code",
   "execution_count": 15,
   "metadata": {},
   "outputs": [
    {
     "data": {
      "text/html": [
       "<div>\n",
       "<style scoped>\n",
       "    .dataframe tbody tr th:only-of-type {\n",
       "        vertical-align: middle;\n",
       "    }\n",
       "\n",
       "    .dataframe tbody tr th {\n",
       "        vertical-align: top;\n",
       "    }\n",
       "\n",
       "    .dataframe thead th {\n",
       "        text-align: right;\n",
       "    }\n",
       "</style>\n",
       "<table border=\"1\" class=\"dataframe\">\n",
       "  <thead>\n",
       "    <tr style=\"text-align: right;\">\n",
       "      <th></th>\n",
       "      <th>ngram</th>\n",
       "      <th>poisson</th>\n",
       "      <th>stopwords</th>\n",
       "      <th>component_cosims</th>\n",
       "      <th>cosine_sim</th>\n",
       "    </tr>\n",
       "  </thead>\n",
       "  <tbody>\n",
       "    <tr>\n",
       "      <th>0</th>\n",
       "      <td>(1980s, 1970s, 1960s)</td>\n",
       "      <td>504.762099</td>\n",
       "      <td>[0, 0, 0]</td>\n",
       "      <td>[-0.23996054, -0.23782371, -0.2340202]</td>\n",
       "      <td>-0.237268</td>\n",
       "    </tr>\n",
       "    <tr>\n",
       "      <th>1</th>\n",
       "      <td>(amongst, many, others)</td>\n",
       "      <td>712.565055</td>\n",
       "      <td>[0, 0, 0]</td>\n",
       "      <td>[-0.15940933, -0.21269974, -0.19618905]</td>\n",
       "      <td>-0.189433</td>\n",
       "    </tr>\n",
       "    <tr>\n",
       "      <th>2</th>\n",
       "      <td>(European, register, of)</td>\n",
       "      <td>588.560764</td>\n",
       "      <td>[0, 0, 1]</td>\n",
       "      <td>[-0.1621425, -0.21278596, nan]</td>\n",
       "      <td>-0.187464</td>\n",
       "    </tr>\n",
       "    <tr>\n",
       "      <th>3</th>\n",
       "      <td>(1950s, 1940s, 1930s)</td>\n",
       "      <td>576.491489</td>\n",
       "      <td>[0, 0, 0]</td>\n",
       "      <td>[-0.18906975, -0.1606813, -0.19921347]</td>\n",
       "      <td>-0.182988</td>\n",
       "    </tr>\n",
       "    <tr>\n",
       "      <th>4</th>\n",
       "      <td>(As, far, back)</td>\n",
       "      <td>449.645748</td>\n",
       "      <td>[0, 0, 0]</td>\n",
       "      <td>[-0.09595686, -0.2087354, -0.24125503]</td>\n",
       "      <td>-0.181982</td>\n",
       "    </tr>\n",
       "    <tr>\n",
       "      <th>...</th>\n",
       "      <td>...</td>\n",
       "      <td>...</td>\n",
       "      <td>...</td>\n",
       "      <td>...</td>\n",
       "      <td>...</td>\n",
       "    </tr>\n",
       "    <tr>\n",
       "      <th>453464</th>\n",
       "      <td>(宿, け/犬)</td>\n",
       "      <td>416.659769</td>\n",
       "      <td>[0, 0]</td>\n",
       "      <td>[0.9859951, 0.9874592]</td>\n",
       "      <td>0.986727</td>\n",
       "    </tr>\n",
       "    <tr>\n",
       "      <th>453465</th>\n",
       "      <td>(ㄴ, ㄹ)</td>\n",
       "      <td>4110.216943</td>\n",
       "      <td>[0, 0]</td>\n",
       "      <td>[0.98334867, 0.99101293]</td>\n",
       "      <td>0.987181</td>\n",
       "    </tr>\n",
       "    <tr>\n",
       "      <th>453466</th>\n",
       "      <td>(ㄹ, ㅁ)</td>\n",
       "      <td>3227.287802</td>\n",
       "      <td>[0, 0]</td>\n",
       "      <td>[0.99340194, 0.98948646]</td>\n",
       "      <td>0.991444</td>\n",
       "    </tr>\n",
       "    <tr>\n",
       "      <th>453467</th>\n",
       "      <td>(ㄹ, ㅁ, ㅂ)</td>\n",
       "      <td>5594.044824</td>\n",
       "      <td>[0, 0, 0]</td>\n",
       "      <td>[0.9960094, 0.99351, 0.9925519]</td>\n",
       "      <td>0.994024</td>\n",
       "    </tr>\n",
       "    <tr>\n",
       "      <th>453468</th>\n",
       "      <td>(ㄴ, ㄹ, ㅁ)</td>\n",
       "      <td>5961.118040</td>\n",
       "      <td>[0, 0, 0]</td>\n",
       "      <td>[0.9962357, 0.9969212, 0.9942658]</td>\n",
       "      <td>0.995808</td>\n",
       "    </tr>\n",
       "  </tbody>\n",
       "</table>\n",
       "<p>453469 rows × 5 columns</p>\n",
       "</div>"
      ],
      "text/plain": [
       "                           ngram      poisson  stopwords  \\\n",
       "0          (1980s, 1970s, 1960s)   504.762099  [0, 0, 0]   \n",
       "1        (amongst, many, others)   712.565055  [0, 0, 0]   \n",
       "2       (European, register, of)   588.560764  [0, 0, 1]   \n",
       "3          (1950s, 1940s, 1930s)   576.491489  [0, 0, 0]   \n",
       "4                (As, far, back)   449.645748  [0, 0, 0]   \n",
       "...                          ...          ...        ...   \n",
       "453464                  (宿, け/犬)   416.659769     [0, 0]   \n",
       "453465                    (ㄴ, ㄹ)  4110.216943     [0, 0]   \n",
       "453466                    (ㄹ, ㅁ)  3227.287802     [0, 0]   \n",
       "453467                 (ㄹ, ㅁ, ㅂ)  5594.044824  [0, 0, 0]   \n",
       "453468                 (ㄴ, ㄹ, ㅁ)  5961.118040  [0, 0, 0]   \n",
       "\n",
       "                               component_cosims  cosine_sim  \n",
       "0        [-0.23996054, -0.23782371, -0.2340202]   -0.237268  \n",
       "1       [-0.15940933, -0.21269974, -0.19618905]   -0.189433  \n",
       "2                [-0.1621425, -0.21278596, nan]   -0.187464  \n",
       "3        [-0.18906975, -0.1606813, -0.19921347]   -0.182988  \n",
       "4        [-0.09595686, -0.2087354, -0.24125503]   -0.181982  \n",
       "...                                         ...         ...  \n",
       "453464                   [0.9859951, 0.9874592]    0.986727  \n",
       "453465                 [0.98334867, 0.99101293]    0.987181  \n",
       "453466                 [0.99340194, 0.98948646]    0.991444  \n",
       "453467          [0.9960094, 0.99351, 0.9925519]    0.994024  \n",
       "453468        [0.9962357, 0.9969212, 0.9942658]    0.995808  \n",
       "\n",
       "[453469 rows x 5 columns]"
      ]
     },
     "execution_count": 15,
     "metadata": {},
     "output_type": "execute_result"
    }
   ],
   "source": [
    "w10p_w2v_light"
   ]
  },
  {
   "cell_type": "code",
   "execution_count": 16,
   "metadata": {},
   "outputs": [],
   "source": [
    "w10p_w2v_light.to_csv(datapath+'/Models/1 w2v/Results/wiki10pc_light_001.tsv', sep='\\t', index=False)"
   ]
  },
  {
   "cell_type": "code",
   "execution_count": null,
   "metadata": {},
   "outputs": [],
   "source": []
  },
  {
   "cell_type": "code",
   "execution_count": 17,
   "metadata": {},
   "outputs": [],
   "source": [
    "w10p_w2v_tag = pd.read_csv(datapath+'/Models/1 w2v/Tagged/Results/w10p_tagged_clean_light_001.csv', \n",
    "                             converters= converter)"
   ]
  },
  {
   "cell_type": "code",
   "execution_count": 18,
   "metadata": {},
   "outputs": [],
   "source": [
    "w10p_w2v_tag = w10p_w2v_tag.drop(columns=['batch', 'len'])\n",
    "w10p_w2v_tag = w10p_w2v_tag[~np.isnan(w10p_w2v_tag.cosine_sim)]"
   ]
  },
  {
   "cell_type": "code",
   "execution_count": 19,
   "metadata": {},
   "outputs": [],
   "source": [
    "w10p_w2v_tag.to_csv(datapath+'/Models/1 w2v/Tagged/Results/wiki10pc_tag_comp.tsv', sep='\\t', index=False)"
   ]
  },
  {
   "cell_type": "code",
   "execution_count": null,
   "metadata": {},
   "outputs": [],
   "source": []
  },
  {
   "cell_type": "code",
   "execution_count": 20,
   "metadata": {},
   "outputs": [],
   "source": [
    "w10p_w2v_nopn = pd.read_csv(datapath+'/Models/1 w2v/Tagged/Results/w10p_tagged_nopn_light_001.csv', \n",
    "                             converters= converter)"
   ]
  },
  {
   "cell_type": "code",
   "execution_count": 21,
   "metadata": {},
   "outputs": [],
   "source": [
    "w10p_w2v_nopn = w10p_w2v_nopn.drop(columns=['batch', 'len'])\n",
    "w10p_w2v_nopn = w10p_w2v_nopn[~np.isnan(w10p_w2v_nopn.cosine_sim)]"
   ]
  },
  {
   "cell_type": "code",
   "execution_count": 22,
   "metadata": {},
   "outputs": [],
   "source": [
    "w10p_w2v_nopn.to_csv(datapath+'/Models/1 w2v/Tagged/Results/wiki10pc_nopn_comp.tsv', sep='\\t', index=False)"
   ]
  }
 ],
 "metadata": {
  "kernelspec": {
   "display_name": "Python 3",
   "language": "python",
   "name": "python3"
  },
  "language_info": {
   "codemirror_mode": {
    "name": "ipython",
    "version": 3
   },
   "file_extension": ".py",
   "mimetype": "text/x-python",
   "name": "python",
   "nbconvert_exporter": "python",
   "pygments_lexer": "ipython3",
   "version": "3.6.10"
  }
 },
 "nbformat": 4,
 "nbformat_minor": 4
}
